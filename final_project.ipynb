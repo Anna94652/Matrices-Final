{
 "cells": [
  {
   "cell_type": "code",
   "execution_count": 14,
   "metadata": {},
   "outputs": [
    {
     "data": {
      "text/plain": [
       "4-element Vector{Float64}:\n",
       " 0.23076923076923075\n",
       " 0.30769230769230754\n",
       " 0.23076923076923087\n",
       " 0.2307692307692309"
      ]
     },
     "execution_count": 14,
     "metadata": {},
     "output_type": "execute_result"
    }
   ],
   "source": [
    "using LinearAlgebra\n",
    "\n",
    "M = [0 0.5 0 1/3 ; 1 0 0 1/3 ; 0 0.5 0 1/3 ; 0 0 1 0]\n",
    "\n",
    "valM,vecM = eigen(M)\n",
    "\n",
    "b = vecM[:,4]\n",
    "\n",
    "#sum = sum(b)\n",
    "\n",
    "prob_vector = b ./ sum(b)\n",
    "\n",
    "# for (entry in b)\n",
    "\n",
    "#     printf(entry)\n",
    "# end\n"
   ]
  }
 ],
 "metadata": {
  "kernelspec": {
   "display_name": "Julia 1.10.4",
   "language": "julia",
   "name": "julia-1.10"
  },
  "language_info": {
   "file_extension": ".jl",
   "mimetype": "application/julia",
   "name": "julia",
   "version": "1.10.4"
  }
 },
 "nbformat": 4,
 "nbformat_minor": 2
}
