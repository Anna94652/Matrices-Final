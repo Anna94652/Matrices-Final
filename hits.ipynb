{
 "cells": [
  {
   "cell_type": "code",
   "execution_count": null,
   "metadata": {
    "vscode": {
     "languageId": "plaintext"
    }
   },
   "outputs": [],
   "source": [
    "using LinearAlgebra\n",
    "\n",
    "M = [0 0.5 0 1/3 ; 1 0 0 1/3 ; 0 0.5 0 1/3 ; 0 0 1 0]\n",
    "\n",
    "L = [0 1 0 1 ; 1 0 0 1 ; 0 1 0 1 ; 0 0 1 0]"
   ]
  }
 ],
 "metadata": {
  "language_info": {
   "name": "python"
  }
 },
 "nbformat": 4,
 "nbformat_minor": 2
}
