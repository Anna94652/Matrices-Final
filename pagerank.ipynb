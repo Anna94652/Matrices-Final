{
 "cells": [
  {
   "cell_type": "code",
   "execution_count": 6,
   "metadata": {},
   "outputs": [
    {
     "name": "stdout",
     "output_type": "stream",
     "text": [
      "[0.0375 0.46249999999999997 0.0375 0.3208333333333333; 0.8875 0.0375 0.0375 0.3208333333333333; 0.0375 0.46249999999999997 0.0375 0.3208333333333333; 0.0375 0.0375 0.8875 0.0375]\n"
     ]
    },
    {
     "data": {
      "text/plain": [
       "4-element Vector{Float64}:\n",
       " 0.23202579826601816\n",
       " 0.30122647494184823\n",
       " 0.23202579826601816\n",
       " 0.23472192852611545"
      ]
     },
     "metadata": {},
     "output_type": "display_data"
    }
   ],
   "source": [
    "using LinearAlgebra\n",
    "\n",
    "M = [0 0.5 0 1/3 ; 1 0 0 1/3 ; 0 0.5 0 1/3 ; 0 0 1 0]\n",
    "\n",
    "M1 = [0 .425 0 .283 ; .85 0 0 .283 ; 0 .425 0 .283 ; 0 0 .85 0]\n",
    "\n",
    "a = [.0375 .0375 .0375 .0375 ; .0375 .0375 .0375 .0375 ; .0375 .0375 .0375 .0375 ; .0375 .0375 .0375 .0375]\n",
    "\n",
    "M2 = M1 + a\n",
    "\n",
    "M3 = .85 * M + a\n",
    "valM,vecM = eigen(M3)\n",
    "\n",
    "println(M3)\n",
    "\n",
    "b = vecM[:,4]\n",
    "\n",
    "#sum = sum(b)\n",
    "\n",
    "prob_vector = b ./ sum(b)"
   ]
  },
  {
   "cell_type": "code",
   "execution_count": 9,
   "metadata": {},
   "outputs": [
    {
     "data": {
      "text/plain": [
       "pagerank (generic function with 1 method)"
      ]
     },
     "metadata": {},
     "output_type": "display_data"
    }
   ],
   "source": [
    "function pagerank(M)\n",
    "    # if M is regular, no need to adjust !!\n",
    "    # make A be the matrix adding random where A has same dimensions of M with entries .15/len(M)\n",
    "    rows = size(M, 1)\n",
    "    cols = size(M, 2)\n",
    "    A = zeros(rows, cols)\n",
    "\n",
    "    for i = 1:rows\n",
    "        for j = 1:cols\n",
    "            A[i, j] = 0.15 / rows\n",
    "        end \n",
    "    end\n",
    "    \n",
    "\n",
    "    M1 = 0.85 * M + A\n",
    "    valM, vecM = eigen(M1)\n",
    "    b = vecM[:, rows]\n",
    "    println(M1)\n",
    "    # make sure b is always corresp to eigenvalue = 1\n",
    "    prob_vector = b ./ sum(b)\n",
    "    return prob_vector\n",
    "end \n"
   ]
  },
  {
   "cell_type": "code",
   "execution_count": 10,
   "metadata": {},
   "outputs": [
    {
     "name": "stdout",
     "output_type": "stream",
     "text": [
      "[0.0375 0.46249999999999997 0.0375 0.3208333333333333; 0.8875 0.0375 0.0375 0.3208333333333333; 0.0375 0.46249999999999997 0.0375 0.3208333333333333; 0.0375 0.0375 0.8875 0.0375]\n"
     ]
    },
    {
     "data": {
      "text/plain": [
       "4-element Vector{Float64}:\n",
       " 0.23202579826601816\n",
       " 0.30122647494184823\n",
       " 0.23202579826601816\n",
       " 0.23472192852611545"
      ]
     },
     "metadata": {},
     "output_type": "display_data"
    }
   ],
   "source": [
    "pagerank(M)"
   ]
  }
 ],
 "metadata": {
  "kernelspec": {
   "display_name": "Julia 1.10.4",
   "language": "julia",
   "name": "julia-1.10"
  },
  "language_info": {
   "file_extension": ".jl",
   "mimetype": "application/julia",
   "name": "julia",
   "version": "1.10.4"
  }
 },
 "nbformat": 4,
 "nbformat_minor": 2
}
