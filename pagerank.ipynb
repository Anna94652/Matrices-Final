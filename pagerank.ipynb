{
 "cells": [
  {
   "cell_type": "code",
   "execution_count": null,
   "metadata": {},
   "outputs": [],
   "source": [
    "using LinearAlgebra\n",
    "\n",
    "M = [0 0.5 0 1/3 ; 1 0 0 1/3 ; 0 0.5 0 1/3 ; 0 0 1 0]\n",
    "\n",
    "M1 = [0 .425 0 .283 ; .85 0 0 .283 ; 0 .425 0 .283 ; 0 0 .85 0]\n",
    "\n",
    "a = [.0375 .0375 .0375 .0375 ; .0375 .0375 .0375 .0375 ; .0375 .0375 .0375 .0375 ; .0375 .0375 .0375 .0375]\n",
    "\n",
    "M2 = M1 + a\n",
    "\n",
    "M3 = .85 * M + a\n",
    "valM,vecM = eigen(M3)\n",
    "\n",
    "b = vecM[:,4]\n",
    "\n",
    "#sum = sum(b)\n",
    "\n",
    "prob_vector = b ./ sum(b)"
   ]
  },
  {
   "cell_type": "code",
   "execution_count": null,
   "metadata": {},
   "outputs": [],
   "source": [
    "function pagerank(M)\n",
    "    # make A where A has same dimensions of M with entries .85/len(M)\n",
    "    M1 = 0.85 * M + A\n",
    "    valM, vecM = eigen(M1)\n",
    "    b = vecM[:, len(M)]\n",
    "    # make sure b is always corresp to eigenvalue = 1\n",
    "    prob_vector = b ./ sum(b)\n",
    "    return b\n",
    "end \n"
   ]
  }
 ],
 "metadata": {
  "kernelspec": {
   "display_name": "Julia 1.10.4",
   "language": "julia",
   "name": "julia-1.10"
  },
  "language_info": {
   "file_extension": ".jl",
   "mimetype": "application/julia",
   "name": "julia",
   "version": "1.10.4"
  }
 },
 "nbformat": 4,
 "nbformat_minor": 2
}
