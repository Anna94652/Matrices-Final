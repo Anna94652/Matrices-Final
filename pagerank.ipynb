{
 "cells": [
  {
   "cell_type": "code",
   "execution_count": 6,
   "metadata": {},
   "outputs": [
    {
     "name": "stdout",
     "output_type": "stream",
     "text": [
      "[0.0375 0.46249999999999997 0.0375 0.3208333333333333; 0.8875 0.0375 0.0375 0.3208333333333333; 0.0375 0.46249999999999997 0.0375 0.3208333333333333; 0.0375 0.0375 0.8875 0.0375]\n"
     ]
    },
    {
     "data": {
      "text/plain": [
       "4-element Vector{Float64}:\n",
       " 0.23202579826601816\n",
       " 0.30122647494184823\n",
       " 0.23202579826601816\n",
       " 0.23472192852611545"
      ]
     },
     "metadata": {},
     "output_type": "display_data"
    }
   ],
   "source": [
    "using LinearAlgebra\n",
    "\n",
    "M = [0 0.5 0 1/3 ; 1 0 0 1/3 ; 0 0.5 0 1/3 ; 0 0 1 0]\n",
    "\n",
    "M1 = [0 .425 0 .283 ; .85 0 0 .283 ; 0 .425 0 .283 ; 0 0 .85 0]\n",
    "\n",
    "a = [.0375 .0375 .0375 .0375 ; .0375 .0375 .0375 .0375 ; .0375 .0375 .0375 .0375 ; .0375 .0375 .0375 .0375]\n",
    "\n",
    "M2 = M1 + a\n",
    "\n",
    "M3 = .85 * M + a\n",
    "valM,vecM = eigen(M3)\n",
    "\n",
    "println(M3)\n",
    "\n",
    "b = vecM[:,4]\n",
    "\n",
    "#sum = sum(b)\n",
    "\n",
    "prob_vector = b ./ sum(b)"
   ]
  },
  {
   "cell_type": "code",
   "execution_count": 25,
   "metadata": {},
   "outputs": [
    {
     "data": {
      "text/plain": [
       "naive_pagerank (generic function with 1 method)"
      ]
     },
     "metadata": {},
     "output_type": "display_data"
    }
   ],
   "source": [
    "function naive_pagerank(M)\n",
    "    # REQUIRES M is Markov matrix\n",
    "    rows = size(M, 1)\n",
    "    \n",
    "    valM, vecM = eigen(M)\n",
    "\n",
    "    b = vecM[:, rows]\n",
    "    # last eigenvector is always 1 (given M is markov matrix)\n",
    "\n",
    "    prob_vector = b ./ sum(b)\n",
    "    return prob_vector\n",
    "end "
   ]
  },
  {
   "cell_type": "code",
   "execution_count": 30,
   "metadata": {},
   "outputs": [
    {
     "data": {
      "text/plain": [
       "pagerank (generic function with 1 method)"
      ]
     },
     "metadata": {},
     "output_type": "display_data"
    }
   ],
   "source": [
    "function pagerank(M)\n",
    "    # REQUIRES M is Markov matrix\n",
    "    # if M is regular, no need to adjust !!\n",
    "    # make A be the matrix adding random where A has same dimensions of M with entries .15/len(M)\n",
    "    rows = size(M, 1)\n",
    "    cols = size(M, 2)\n",
    "    A = zeros(rows, cols)\n",
    "\n",
    "    for i = 1:rows\n",
    "        for j = 1:cols\n",
    "            A[i, j] = 0.15 / rows\n",
    "        end \n",
    "    end\n",
    "    \n",
    "\n",
    "    M1 = 0.85 * M + A\n",
    "    valM, vecM = eigen(M1)\n",
    "    b = vecM[:, rows]\n",
    "    # lam = valM[rows]\n",
    "    # println(round(lam) == 1)\n",
    "    \n",
    "    # last eigenvector is always 1 (given M is markov matrix)\n",
    "    prob_vector = b ./ sum(b)\n",
    "    return prob_vector\n",
    "end "
   ]
  },
  {
   "cell_type": "code",
   "execution_count": null,
   "metadata": {},
   "outputs": [
    {
     "name": "stdout",
     "output_type": "stream",
     "text": [
      "true\n"
     ]
    },
    {
     "data": {
      "text/plain": [
       "4-element Vector{Float64}:\n",
       " 0.23202579826601816\n",
       " 0.30122647494184823\n",
       " 0.23202579826601816\n",
       " 0.23472192852611545"
      ]
     },
     "metadata": {},
     "output_type": "display_data"
    }
   ],
   "source": [
    "pagerank(M)"
   ]
  },
  {
   "cell_type": "code",
   "execution_count": 26,
   "metadata": {},
   "outputs": [
    {
     "data": {
      "text/plain": [
       "4-element Vector{Float64}:\n",
       " 0.23076923076923075\n",
       " 0.30769230769230754\n",
       " 0.23076923076923087\n",
       " 0.2307692307692309"
      ]
     },
     "metadata": {},
     "output_type": "display_data"
    }
   ],
   "source": [
    "using LinearAlgebra\n",
    "\n",
    "M = [0 0.5 0 1/3 ; 1 0 0 1/3 ; 0 0.5 0 1/3 ; 0 0 1 0]\n",
    "\n",
    "naive_pagerank(M)"
   ]
  },
  {
   "cell_type": "code",
   "execution_count": 28,
   "metadata": {},
   "outputs": [
    {
     "data": {
      "text/plain": [
       "5-element Vector{Float64}:\n",
       " -0.0\n",
       " -0.0\n",
       " -0.0\n",
       "  0.5\n",
       "  0.5"
      ]
     },
     "metadata": {},
     "output_type": "display_data"
    }
   ],
   "source": [
    "using LinearAlgebra\n",
    "\n",
    "M = [0 0 1 0 0 ; 0 0 0 0 0 ; 1 1 0 0 0 ; 0 0 0 0 1 ; 0 0 0 1 0]\n",
    "\n",
    "naive_pagerank(M)"
   ]
  },
  {
   "cell_type": "code",
   "execution_count": 31,
   "metadata": {},
   "outputs": [
    {
     "data": {
      "text/plain": [
       "4-element Vector{Float64}:\n",
       " 0.23202579826601816\n",
       " 0.30122647494184823\n",
       " 0.23202579826601816\n",
       " 0.23472192852611545"
      ]
     },
     "metadata": {},
     "output_type": "display_data"
    }
   ],
   "source": [
    "using LinearAlgebra\n",
    "\n",
    "M = [0 0.5 0 1/3 ; 1 0 0 1/3 ; 0 0.5 0 1/3 ; 0 0 1 0]\n",
    "\n",
    "pagerank(M)"
   ]
  },
  {
   "cell_type": "code",
   "execution_count": 32,
   "metadata": {},
   "outputs": [
    {
     "data": {
      "text/plain": [
       "5-element Vector{Float64}:\n",
       " 0.27810810810810827\n",
       " 0.02999999999999999\n",
       " 0.291891891891892\n",
       " 0.1999999999999999\n",
       " 0.1999999999999999"
      ]
     },
     "metadata": {},
     "output_type": "display_data"
    }
   ],
   "source": [
    "using LinearAlgebra\n",
    "\n",
    "M = [0 0 1 0 0 ; 0 0 0 0 0 ; 1 1 0 0 0 ; 0 0 0 0 1 ; 0 0 0 1 0]\n",
    "\n",
    "pagerank(M)"
   ]
  },
  {
   "cell_type": "code",
   "execution_count": null,
   "metadata": {},
   "outputs": [
    {
     "data": {
      "text/plain": [
       "16-element Vector{Float64}:\n",
       " 0.0\n",
       " 1.0\n",
       " 0.0\n",
       " 0.0\n",
       " 0.5\n",
       " 0.0\n",
       " 0.5\n",
       " 0.0\n",
       " 0.0\n",
       " 0.0\n",
       " 0.0\n",
       " 1.0\n",
       " 0.3333333333333333\n",
       " 0.3333333333333333\n",
       " 0.3333333333333333\n",
       " 0.0"
      ]
     },
     "metadata": {},
     "output_type": "display_data"
    }
   ],
   "source": [
    "website1 = [0 ; 1 ; 0 ; 0]\n",
    "website2 = [0.5 ; 0 ; 0.5 ; 0]\n",
    "website3 = [0 ; 0 ; 0 ; 1]\n",
    "website4 = [1/3 ; 1/3 ; 1/3 ; 0]\n",
    "\n",
    "for j = 1:length(website1)\n",
    "    websites[]\n",
    "websites = \n"
   ]
  }
 ],
 "metadata": {
  "kernelspec": {
   "display_name": "Julia 1.10.4",
   "language": "julia",
   "name": "julia-1.10"
  },
  "language_info": {
   "file_extension": ".jl",
   "mimetype": "application/julia",
   "name": "julia",
   "version": "1.10.4"
  }
 },
 "nbformat": 4,
 "nbformat_minor": 2
}
